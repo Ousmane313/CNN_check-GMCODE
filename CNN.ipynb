{
 "cells": [
  {
   "cell_type": "code",
   "execution_count": 1,
   "metadata": {},
   "outputs": [],
   "source": [
    "from keras.datasets.mnist import load_data\n",
    "import numpy as np\n",
    "from sklearn.model_selection import train_test_split\n",
    "from keras.utils import to_categorical"
   ]
  },
  {
   "cell_type": "code",
   "execution_count": 2,
   "metadata": {},
   "outputs": [
    {
     "name": "stdout",
     "output_type": "stream",
     "text": [
      "Downloading data from https://storage.googleapis.com/tensorflow/tf-keras-datasets/mnist.npz\n",
      "11490434/11490434 [==============================] - 3s 0us/step\n"
     ]
    }
   ],
   "source": [
    "# load the data - it returns 2 tuples of digits & labels - one for\n",
    "# the train set & the other for the test set\n",
    "(train_digits, train_labels), (test_digits, test_labels) = load_data()\n",
    "#  some variables...\n",
    "image_height = train_digits.shape[1]  \n",
    "image_width = train_digits.shape[2]\n",
    "num_channels = 1  # we have grayscale images\n",
    "#NOTE: image_height == image_width == 28\n",
    "# re-shape the images data\n",
    "train_data = np.reshape(train_digits, (train_digits.shape[0], image_height, image_width, num_channels))\n",
    "test_data = np.reshape(test_digits, (test_digits.shape[0],image_height, image_width, num_channels))\n",
    "\n",
    "# re-scale the image data to values between [0,1]\n",
    "train_data = train_data.astype('float32') / 255.\n",
    "test_data = test_data.astype('float32') / 255.\n",
    "\n",
    "# one-hot encode the labels - we have 10 output classes\n",
    "\n",
    "# so 3 -> [0 0 0 1 0 0 0 0 0 0], 5 -> [0 0 0 0 0 1 0 0 0 0] & so on\n",
    "num_classes = 10\n",
    "train_labels_cat = to_categorical(train_labels,num_classes)\n",
    "test_labels_cat = to_categorical(test_labels,num_classes)\n",
    "\n",
    "# split training set into training and validation\n",
    "train_data2, val_data,train_labels_cat2,  val_labels = train_test_split(train_data, train_labels_cat, test_size=0.1)"
   ]
  },
  {
   "cell_type": "code",
   "execution_count": 3,
   "metadata": {},
   "outputs": [],
   "source": [
    "from keras.models import Sequential\n",
    "from keras.layers import Conv2D, MaxPooling2D, Flatten, Dense, Dropout\n",
    "def build_model():\n",
    "    model = Sequential()\n",
    "    # add Convolutional layers\n",
    "    model.add(Conv2D(filters=32, kernel_size=(3,3), activation='relu', padding='same',\n",
    "                     input_shape=(image_height, image_width, num_channels)))\n",
    "    model.add(MaxPooling2D(pool_size=(2,2)))\n",
    "    model.add(Conv2D(filters=64, kernel_size=(3,3), activation='relu', padding='same'))\n",
    "    model.add(MaxPooling2D(pool_size=(2,2)))\n",
    "    model.add(Conv2D(filters=64, kernel_size=(3,3), activation='relu', padding='same'))\n",
    "    model.add(MaxPooling2D(pool_size=(2,2)))    \n",
    "    model.add(Flatten())\n",
    "    # Densely connected layers\n",
    "    model.add(Dense(128, activation='relu'))\n",
    "    # output layer\n",
    "    model.add(Dense(num_classes, activation='softmax'))\n",
    "    # compile with adam optimizer & categorical_crossentropy loss function\n",
    "    model.compile(optimizer='adam', loss='categorical_crossentropy', metrics=['accuracy'])\n",
    "    return model\n",
    "\n",
    "model = build_model()"
   ]
  },
  {
   "cell_type": "code",
   "execution_count": 4,
   "metadata": {},
   "outputs": [
    {
     "name": "stdout",
     "output_type": "stream",
     "text": [
      "Epoch 1/15\n",
      "844/844 [==============================] - 27s 29ms/step - loss: 0.1779 - accuracy: 0.9436 - val_loss: 0.0632 - val_accuracy: 0.9790\n",
      "Epoch 2/15\n",
      "844/844 [==============================] - 25s 30ms/step - loss: 0.0468 - accuracy: 0.9855 - val_loss: 0.0492 - val_accuracy: 0.9843\n",
      "Epoch 3/15\n",
      "844/844 [==============================] - 26s 31ms/step - loss: 0.0319 - accuracy: 0.9895 - val_loss: 0.0431 - val_accuracy: 0.9873\n",
      "Epoch 4/15\n",
      "844/844 [==============================] - 27s 32ms/step - loss: 0.0253 - accuracy: 0.9919 - val_loss: 0.0344 - val_accuracy: 0.9895\n",
      "Epoch 5/15\n",
      "844/844 [==============================] - 24s 29ms/step - loss: 0.0202 - accuracy: 0.9932 - val_loss: 0.0411 - val_accuracy: 0.9873\n",
      "Epoch 6/15\n",
      "844/844 [==============================] - 25s 30ms/step - loss: 0.0172 - accuracy: 0.9942 - val_loss: 0.0373 - val_accuracy: 0.9862\n",
      "Epoch 7/15\n",
      "844/844 [==============================] - 25s 30ms/step - loss: 0.0142 - accuracy: 0.9954 - val_loss: 0.0363 - val_accuracy: 0.9898\n",
      "Epoch 8/15\n",
      "844/844 [==============================] - 25s 30ms/step - loss: 0.0131 - accuracy: 0.9957 - val_loss: 0.0446 - val_accuracy: 0.9882\n",
      "Epoch 9/15\n",
      "844/844 [==============================] - 25s 30ms/step - loss: 0.0113 - accuracy: 0.9961 - val_loss: 0.0437 - val_accuracy: 0.9875\n",
      "Epoch 10/15\n",
      "844/844 [==============================] - 25s 30ms/step - loss: 0.0092 - accuracy: 0.9970 - val_loss: 0.0365 - val_accuracy: 0.9915\n",
      "Epoch 11/15\n",
      "844/844 [==============================] - 27s 32ms/step - loss: 0.0079 - accuracy: 0.9973 - val_loss: 0.0418 - val_accuracy: 0.9902\n",
      "Epoch 12/15\n",
      "844/844 [==============================] - 26s 31ms/step - loss: 0.0084 - accuracy: 0.9974 - val_loss: 0.0429 - val_accuracy: 0.9902\n",
      "Epoch 13/15\n",
      "844/844 [==============================] - 28s 33ms/step - loss: 0.0063 - accuracy: 0.9981 - val_loss: 0.0457 - val_accuracy: 0.9897\n",
      "Epoch 14/15\n",
      "844/844 [==============================] - 25s 30ms/step - loss: 0.0062 - accuracy: 0.9981 - val_loss: 0.0457 - val_accuracy: 0.9888\n",
      "Epoch 15/15\n",
      "844/844 [==============================] - 26s 30ms/step - loss: 0.0058 - accuracy: 0.9981 - val_loss: 0.0530 - val_accuracy: 0.9898\n"
     ]
    }
   ],
   "source": [
    "history = model.fit(train_data2, train_labels_cat2, \n",
    "                    epochs=15, batch_size=64,\n",
    "                    validation_data=(val_data, val_labels))"
   ]
  },
  {
   "cell_type": "code",
   "execution_count": 5,
   "metadata": {},
   "outputs": [
    {
     "name": "stdout",
     "output_type": "stream",
     "text": [
      "157/157 [==============================] - 1s 9ms/step - loss: 0.0406 - accuracy: 0.9921\n",
      "Test loss: 0.0406 accuracy: 0.9921\n"
     ]
    }
   ],
   "source": [
    "test_loss, test_accuracy = model.evaluate(test_data, test_labels_cat, batch_size=64)\n",
    "print('Test loss: %.4f accuracy: %.4f' % (test_loss, test_accuracy))"
   ]
  },
  {
   "cell_type": "code",
   "execution_count": 6,
   "metadata": {},
   "outputs": [
    {
     "data": {
      "text/plain": [
       "[]"
      ]
     },
     "execution_count": 6,
     "metadata": {},
     "output_type": "execute_result"
    },
    {
     "data": {
      "image/png": "[encoded data removed]",
      "text/plain": [
       "<Figure size 432x288 with 1 Axes>"
      ]
     },
     "metadata": {},
     "output_type": "display_data"
    }
   ],
   "source": [
    "import matplotlib.pyplot as plt\n",
    "%matplotlib inline\n",
    "import seaborn as sns\n",
    "sns.set()\n",
    " \n",
    "acc = history.history['accuracy']\n",
    "val = history.history['val_accuracy']\n",
    "epochs = range(1, len(acc) + 1)\n",
    " \n",
    "plt.plot(epochs, acc, '-', label='Training accuracy')\n",
    "plt.plot(epochs, val, ':', label='Validation accuracy')\n",
    "plt.title('Training and Validation Accuracy')\n",
    "plt.xlabel('Epoch')\n",
    "plt.ylabel('Accuracy')\n",
    "plt.legend(loc='lower right')\n",
    "plt.plot()"
   ]
  }
 ],
 "metadata": {
  "kernelspec": {
   "display_name": "base",
   "language": "python",
   "name": "python3"
  },
  "language_info": {
   "codemirror_mode": {
    "name": "ipython",
    "version": 3
   },
   "file_extension": ".py",
   "mimetype": "text/x-python",
   "name": "python",
   "nbconvert_exporter": "python",
   "pygments_lexer": "ipython3",
   "version": "3.9.12 (main, Apr  4 2022, 05:22:27) [MSC v.1916 64 bit (AMD64)]"
  },
  "orig_nbformat": 4,
  "vscode": {
   "interpreter": {
    "hash": "30609cf90bf0a0c99a2f7c369f598b537ae17b7fb17d17516a43238b383b4719"
   }
  }
 },
 "nbformat": 4,
 "nbformat_minor": 2
}
